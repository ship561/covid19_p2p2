{
 "cells": [
  {
   "cell_type": "code",
   "execution_count": 1,
   "metadata": {},
   "outputs": [
    {
     "name": "stdout",
     "output_type": "stream",
     "text": [
      "\u001b[34mCORD-19-research-challenge\u001b[m\u001b[m     \u001b[31msubmission.csv\u001b[m\u001b[m\n",
      "\u001b[31mlocations_population.csv\u001b[m\u001b[m       \u001b[31mtest.csv\u001b[m\u001b[m\n",
      "\u001b[31mpopulation_by_country_2020.csv\u001b[m\u001b[m \u001b[31mtrain.csv\u001b[m\u001b[m\n"
     ]
    }
   ],
   "source": [
    "! ls data/"
   ]
  },
  {
   "cell_type": "code",
   "execution_count": 64,
   "metadata": {},
   "outputs": [],
   "source": [
    "import os\n",
    "import json\n",
    "import pandas as pd\n",
    "from tqdm import tqdm\n",
    "import re\n",
    "import numpy as np\n",
    "\n",
    "import matplotlib.pyplot as plt\n",
    "from matplotlib import style\n",
    "style.use(\"ggplot\")"
   ]
  },
  {
   "cell_type": "code",
   "execution_count": 80,
   "metadata": {},
   "outputs": [
    {
     "name": "stderr",
     "output_type": "stream",
     "text": [
      " 12%|█▏        | 110/886 [00:00<00:00, 1094.03it/s]"
     ]
    },
    {
     "name": "stdout",
     "output_type": "stream",
     "text": [
      "Start with biorxiv_medrxiv\n"
     ]
    },
    {
     "name": "stderr",
     "output_type": "stream",
     "text": [
      "100%|██████████| 886/886 [00:00<00:00, 1563.56it/s]\n",
      "  1%|          | 78/9118 [00:00<00:19, 467.94it/s]"
     ]
    },
    {
     "name": "stdout",
     "output_type": "stream",
     "text": [
      "Start with comm_use_subset\n"
     ]
    },
    {
     "name": "stderr",
     "output_type": "stream",
     "text": [
      "100%|██████████| 9118/9118 [00:09<00:00, 945.51it/s] \n",
      "  7%|▋         | 159/2353 [00:00<00:01, 1588.10it/s]"
     ]
    },
    {
     "name": "stdout",
     "output_type": "stream",
     "text": [
      "Start with noncomm_use_subset\n"
     ]
    },
    {
     "name": "stderr",
     "output_type": "stream",
     "text": [
      "100%|██████████| 2353/2353 [00:01<00:00, 1212.68it/s]\n",
      "  0%|          | 31/16959 [00:00<00:55, 303.65it/s]"
     ]
    },
    {
     "name": "stdout",
     "output_type": "stream",
     "text": [
      "Start with custom_license\n"
     ]
    },
    {
     "name": "stderr",
     "output_type": "stream",
     "text": [
      "100%|██████████| 16959/16959 [01:04<00:00, 263.24it/s]\n"
     ]
    }
   ],
   "source": [
    "dirs = [\"biorxiv_medrxiv\", \"comm_use_subset\", \"noncomm_use_subset\", \"custom_license\"]\n",
    "\n",
    "docs =  []\n",
    "for d in dirs:\n",
    "    print(f'Start with {d}')\n",
    "    for file in tqdm(os.listdir(f\"data/CORD-19-research-challenge/{d}/{d}/\")):\n",
    "        if file.endswith(\".json\"):\n",
    "            file_path = f\"data/CORD-19-research-challenge/{d}/{d}/{file}\"\n",
    "            j = json.load(open(file_path, \"rb\"))\n",
    "\n",
    "            title = j[\"metadata\"]['title']\n",
    "            try:\n",
    "                abstract = j[\"abstract\"][0]\n",
    "            except:\n",
    "                abstract = \"\"\n",
    "\n",
    "            full_text = \"\"\n",
    "            for text in j[\"body_text\"]:            \n",
    "                full_text += text['text'] + '\\n\\n'\n",
    "            docs.append([title, abstract, full_text])\n",
    "            \n",
    "\n",
    "    "
   ]
  },
  {
   "cell_type": "code",
   "execution_count": 69,
   "metadata": {},
   "outputs": [
    {
     "name": "stdout",
     "output_type": "stream",
     "text": [
      "                                                title  \\\n",
      "1   Time-varying transmission dynamics of Novel Co...   \n",
      "4   Potential impact of seasonal forcing on a SARS...   \n",
      "13  A Multiscale and Comparative Model for Recepto...   \n",
      "20  Real-Time Estimation of the Risk of Death from...   \n",
      "24  Title Analysis of the epidemic growth of the e...   \n",
      "\n",
      "                                             abstract  \\\n",
      "1   {'text': 'Rationale: Several studies have esti...   \n",
      "4   {'text': 'A novel coronavirus (SARS-CoV-2) fir...   \n",
      "13  {'text': 'The respiratory syndrome caused by a...   \n",
      "20  {'text': 'The exported cases of 2019 novel cor...   \n",
      "24  {'text': 'Background: On January 23, 2020, a q...   \n",
      "\n",
      "                                            full_text  \n",
      "1   Eighteen years ago, severe acute respiratory s...  \n",
      "4   (2.2 with 90% high density interval 1.4-3.8 (R...  \n",
      "13  The coronavirus disease 2019 has emerged at th...  \n",
      "20  Since 8 December, 2019, clusters of pneumonia ...  \n",
      "24  On December 31, 2019, the Health Commission in...  \n"
     ]
    }
   ],
   "source": [
    "df = pd.DataFrame(docs, columns=['title', 'abstract', 'full_text'])\n",
    "\n",
    "incubation = df[df['full_text'].str.contains('incubation')]\n",
    "print(incubation.head())"
   ]
  },
  {
   "cell_type": "code",
   "execution_count": 79,
   "metadata": {},
   "outputs": [
    {
     "name": "stdout",
     "output_type": "stream",
     "text": [
      "[' 56 day']\n",
      "An infectious dose for PDCoV and TGEV has not yet been determined in a feed matrix, but soybean meal also had the highest survival for both viruses with a virus concentration of 5.17 log TCID 50 /mL of PDCoV and 4.95 log TCID 50 /mL of TGEV even after 56 days of incubation.\n",
      "\n",
      "When comparing the inactivation kinetics of each virus, there is a similar trend for soybean meal to have the greatest virus survival\n",
      "\n",
      "[' 56 day']\n",
      "Out of the feed ingredients analyzed, soybean meal had greatest delta value in all three viruses, along with the highest concentration of remaining virus after 56 days of incubation\n",
      "\n",
      "[' 70 day']\n",
      "monocytogenes are characterised by a long incubation period ranging between 1 and as many as 70 days (average length of 8 days)\n",
      "\n",
      "[' 56 day']\n",
      "However,~2 log 10 reduction of viral infectivity was still maintained over 56 days of incubation\n",
      "\n",
      "[' 90 day']\n",
      "While robust resistance to the pathogen-targeted AS-136A control emerged rapidly in an approximate 15 to 20-day time window (tolerated dose at the end of adaptation was $30 mM, equivalent to $100-fold resistance), only marginal increases in the tolerated dose could be detected for JMN3-003 after 90 days of continued viral incubation in the presence of the substance (figure 8)\n",
      "\n",
      "[' 90 day']\n",
      "The approach was terminated after 90 days of continued incubation or when virus-induced cytopathicity was readily detectable in the presence of 30 mM compound in accordance with previous results [36] \n",
      "\n",
      "[' 90 day']\n",
      "c Pneumonia was considered hospital-acquired if neither clinically present nor in an incubation period at time of hospital admission Chronic disease included chronic dialysis, mellitus diabetes requiring oral medication and/or insulin, chronic heart failure classified NYHA 3 or 4, cirrhosis, chronic respiratory failure requiring long-term oxygen therapy, and chronic immunosuppression c Pneumonia was considered health care-associated (HCAP) in the presence of at least one of the following conditions: hospitalization for ≥ 2 days in the preceding 90 days, institutionalization, chronic dialysis, and chronic immunosuppression d Transfer from another ward included transfers from another ICU and from the medical wards e Antibiotics before ICU admission referred to any administration of antibiotics, whatever drug regimen, before the ICU referral, i.e., in emergency departments or in other medical wards f The follow-up duration was defined as the time between the date of the mPCR and the date of hospital discharge\n",
      "\n",
      "[' 270 day']\n",
      "Next, the long-term stability of HBV was assessed by incubation of the virus at 4°C for up to 270 days\n",
      "\n",
      "[' 270 day']\n",
      "Remarkably, HBV infectivity remained stable until day 180 of incubation at 4°C, with only a minor reduction of approximately 3-fold ( Figure 1B) , and even after 270 days only a 150-fold reduction could be observed\n",
      "\n",
      "314\n",
      "The mean projected incubation time is 12.69324840764331 days\n"
     ]
    }
   ],
   "source": [
    "texts = incubation['full_text'].values\n",
    "\n",
    "incubation_times = []\n",
    "for t in texts:\n",
    "    for sentence in t.split(\". \"):\n",
    "        if \"incubation\" in sentence:\n",
    "#             single_day = re.findall(r\" \\d{1,2} day\", sentence)\n",
    "            single_day = re.findall(r\" \\d{1,2}\\.?\\d{1,2} day\", sentence)\n",
    "\n",
    "            if len(single_day)== 1:\n",
    "                num = single_day[0].split(\" \")\n",
    "                if float(num[1]) > 50:\n",
    "                    print(single_day)\n",
    "                    print(sentence)\n",
    "                    print()\n",
    "                else:\n",
    "                    incubation_times.append(float(num[1]))   \n",
    "# print(incubation_times)\n",
    "print(len(incubation_times))\n",
    "print(f\"The mean projected incubation time is {np.mean(incubation_times)} days\")\n",
    "    \n"
   ]
  },
  {
   "cell_type": "code",
   "execution_count": 78,
   "metadata": {},
   "outputs": [
    {
     "data": {
      "image/png": "[encoded data removed]",
      "text/plain": [
       "<Figure size 432x288 with 1 Axes>"
      ]
     },
     "metadata": {},
     "output_type": "display_data"
    }
   ],
   "source": [
    "plt.hist(incubation_times, bins=30)\n",
    "plt.ylabel(\"bin counts\")\n",
    "plt.xlabel(\"incubation time in days\")\n",
    "plt.show()"
   ]
  },
  {
   "cell_type": "code",
   "execution_count": null,
   "metadata": {},
   "outputs": [],
   "source": []
  }
 ],
 "metadata": {
  "kernelspec": {
   "display_name": "Python 3",
   "language": "python",
   "name": "python3"
  },
  "language_info": {
   "codemirror_mode": {
    "name": "ipython",
    "version": 3
   },
   "file_extension": ".py",
   "mimetype": "text/x-python",
   "name": "python",
   "nbconvert_exporter": "python",
   "pygments_lexer": "ipython3",
   "version": "3.7.4"
  }
 },
 "nbformat": 4,
 "nbformat_minor": 4
}
