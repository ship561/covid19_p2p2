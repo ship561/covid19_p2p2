{
 "cells": [
  {
   "cell_type": "code",
   "execution_count": 1,
   "metadata": {},
   "outputs": [],
   "source": [
    "import sklearn\n",
    "import pandas as pd\n",
    "import matplotlib.pyplot as plt\n",
    "import seaborn as sns; sns.set()\n",
    "import time\n",
    "from datetime import datetime\n",
    "import numpy as np\n",
    "from scipy import integrate, optimize\n",
    "import warnings\n",
    "warnings.filterwarnings('ignore')"
   ]
  },
  {
   "cell_type": "markdown",
   "metadata": {},
   "source": [
    "### <mark> Look at the data </mark>"
   ]
  },
  {
   "cell_type": "code",
   "execution_count": 2,
   "metadata": {},
   "outputs": [
    {
     "data": {
      "text/html": [
       "<div>\n",
       "<style scoped>\n",
       "    .dataframe tbody tr th:only-of-type {\n",
       "        vertical-align: middle;\n",
       "    }\n",
       "\n",
       "    .dataframe tbody tr th {\n",
       "        vertical-align: top;\n",
       "    }\n",
       "\n",
       "    .dataframe thead th {\n",
       "        text-align: right;\n",
       "    }\n",
       "</style>\n",
       "<table border=\"1\" class=\"dataframe\">\n",
       "  <thead>\n",
       "    <tr style=\"text-align: right;\">\n",
       "      <th></th>\n",
       "      <th>Id</th>\n",
       "      <th>Province/State</th>\n",
       "      <th>Country/Region</th>\n",
       "      <th>Lat</th>\n",
       "      <th>Long</th>\n",
       "      <th>Date</th>\n",
       "      <th>ConfirmedCases</th>\n",
       "      <th>Fatalities</th>\n",
       "    </tr>\n",
       "  </thead>\n",
       "  <tbody>\n",
       "    <tr>\n",
       "      <td>0</td>\n",
       "      <td>1</td>\n",
       "      <td>NaN</td>\n",
       "      <td>Afghanistan</td>\n",
       "      <td>33.0</td>\n",
       "      <td>65.0</td>\n",
       "      <td>2020-01-22</td>\n",
       "      <td>0.0</td>\n",
       "      <td>0.0</td>\n",
       "    </tr>\n",
       "    <tr>\n",
       "      <td>1</td>\n",
       "      <td>2</td>\n",
       "      <td>NaN</td>\n",
       "      <td>Afghanistan</td>\n",
       "      <td>33.0</td>\n",
       "      <td>65.0</td>\n",
       "      <td>2020-01-23</td>\n",
       "      <td>0.0</td>\n",
       "      <td>0.0</td>\n",
       "    </tr>\n",
       "    <tr>\n",
       "      <td>2</td>\n",
       "      <td>3</td>\n",
       "      <td>NaN</td>\n",
       "      <td>Afghanistan</td>\n",
       "      <td>33.0</td>\n",
       "      <td>65.0</td>\n",
       "      <td>2020-01-24</td>\n",
       "      <td>0.0</td>\n",
       "      <td>0.0</td>\n",
       "    </tr>\n",
       "    <tr>\n",
       "      <td>3</td>\n",
       "      <td>4</td>\n",
       "      <td>NaN</td>\n",
       "      <td>Afghanistan</td>\n",
       "      <td>33.0</td>\n",
       "      <td>65.0</td>\n",
       "      <td>2020-01-25</td>\n",
       "      <td>0.0</td>\n",
       "      <td>0.0</td>\n",
       "    </tr>\n",
       "    <tr>\n",
       "      <td>4</td>\n",
       "      <td>5</td>\n",
       "      <td>NaN</td>\n",
       "      <td>Afghanistan</td>\n",
       "      <td>33.0</td>\n",
       "      <td>65.0</td>\n",
       "      <td>2020-01-26</td>\n",
       "      <td>0.0</td>\n",
       "      <td>0.0</td>\n",
       "    </tr>\n",
       "  </tbody>\n",
       "</table>\n",
       "</div>"
      ],
      "text/plain": [
       "   Id Province/State Country/Region   Lat  Long        Date  ConfirmedCases  \\\n",
       "0   1            NaN    Afghanistan  33.0  65.0  2020-01-22             0.0   \n",
       "1   2            NaN    Afghanistan  33.0  65.0  2020-01-23             0.0   \n",
       "2   3            NaN    Afghanistan  33.0  65.0  2020-01-24             0.0   \n",
       "3   4            NaN    Afghanistan  33.0  65.0  2020-01-25             0.0   \n",
       "4   5            NaN    Afghanistan  33.0  65.0  2020-01-26             0.0   \n",
       "\n",
       "   Fatalities  \n",
       "0         0.0  \n",
       "1         0.0  \n",
       "2         0.0  \n",
       "3         0.0  \n",
       "4         0.0  "
      ]
     },
     "metadata": {},
     "output_type": "display_data"
    },
    {
     "data": {
      "text/html": [
       "<div>\n",
       "<style scoped>\n",
       "    .dataframe tbody tr th:only-of-type {\n",
       "        vertical-align: middle;\n",
       "    }\n",
       "\n",
       "    .dataframe tbody tr th {\n",
       "        vertical-align: top;\n",
       "    }\n",
       "\n",
       "    .dataframe thead th {\n",
       "        text-align: right;\n",
       "    }\n",
       "</style>\n",
       "<table border=\"1\" class=\"dataframe\">\n",
       "  <thead>\n",
       "    <tr style=\"text-align: right;\">\n",
       "      <th></th>\n",
       "      <th>Id</th>\n",
       "      <th>Lat</th>\n",
       "      <th>Long</th>\n",
       "      <th>ConfirmedCases</th>\n",
       "      <th>Fatalities</th>\n",
       "    </tr>\n",
       "  </thead>\n",
       "  <tbody>\n",
       "    <tr>\n",
       "      <td>count</td>\n",
       "      <td>16756.000000</td>\n",
       "      <td>16697.000000</td>\n",
       "      <td>16697.000000</td>\n",
       "      <td>16756.000000</td>\n",
       "      <td>16756.000000</td>\n",
       "    </tr>\n",
       "    <tr>\n",
       "      <td>mean</td>\n",
       "      <td>13189.500000</td>\n",
       "      <td>26.337324</td>\n",
       "      <td>5.039603</td>\n",
       "      <td>271.750119</td>\n",
       "      <td>9.221533</td>\n",
       "    </tr>\n",
       "    <tr>\n",
       "      <td>std</td>\n",
       "      <td>7624.686932</td>\n",
       "      <td>22.963063</td>\n",
       "      <td>79.935267</td>\n",
       "      <td>3261.152305</td>\n",
       "      <td>141.524582</td>\n",
       "    </tr>\n",
       "    <tr>\n",
       "      <td>min</td>\n",
       "      <td>1.000000</td>\n",
       "      <td>-41.454500</td>\n",
       "      <td>-157.498300</td>\n",
       "      <td>0.000000</td>\n",
       "      <td>0.000000</td>\n",
       "    </tr>\n",
       "    <tr>\n",
       "      <td>25%</td>\n",
       "      <td>6595.250000</td>\n",
       "      <td>13.193900</td>\n",
       "      <td>-71.530100</td>\n",
       "      <td>0.000000</td>\n",
       "      <td>0.000000</td>\n",
       "    </tr>\n",
       "    <tr>\n",
       "      <td>50%</td>\n",
       "      <td>13189.500000</td>\n",
       "      <td>33.000000</td>\n",
       "      <td>10.000000</td>\n",
       "      <td>0.000000</td>\n",
       "      <td>0.000000</td>\n",
       "    </tr>\n",
       "    <tr>\n",
       "      <td>75%</td>\n",
       "      <td>19783.750000</td>\n",
       "      <td>42.506300</td>\n",
       "      <td>65.000000</td>\n",
       "      <td>7.000000</td>\n",
       "      <td>0.000000</td>\n",
       "    </tr>\n",
       "    <tr>\n",
       "      <td>max</td>\n",
       "      <td>26378.000000</td>\n",
       "      <td>72.000000</td>\n",
       "      <td>174.886000</td>\n",
       "      <td>67800.000000</td>\n",
       "      <td>4032.000000</td>\n",
       "    </tr>\n",
       "  </tbody>\n",
       "</table>\n",
       "</div>"
      ],
      "text/plain": [
       "                 Id           Lat          Long  ConfirmedCases    Fatalities\n",
       "count  16756.000000  16697.000000  16697.000000    16756.000000  16756.000000\n",
       "mean   13189.500000     26.337324      5.039603      271.750119      9.221533\n",
       "std     7624.686932     22.963063     79.935267     3261.152305    141.524582\n",
       "min        1.000000    -41.454500   -157.498300        0.000000      0.000000\n",
       "25%     6595.250000     13.193900    -71.530100        0.000000      0.000000\n",
       "50%    13189.500000     33.000000     10.000000        0.000000      0.000000\n",
       "75%    19783.750000     42.506300     65.000000        7.000000      0.000000\n",
       "max    26378.000000     72.000000    174.886000    67800.000000   4032.000000"
      ]
     },
     "metadata": {},
     "output_type": "display_data"
    },
    {
     "name": "stdout",
     "output_type": "stream",
     "text": [
      "Total number of Country/Region affected is 163\n",
      "Earlies date is 2020-03-20, and latest date is 2020-01-22\n"
     ]
    }
   ],
   "source": [
    "train = pd.read_csv(\"data/train.csv\")\n",
    "display(train.head())\n",
    "display(train.describe())\n",
    "print(f\"Total number of Country/Region affected is {train['Country/Region'].nunique()}\")\n",
    "print(f\"Earlies date is {max(train['Date'])}, and latest date is {min(train['Date'])}\")"
   ]
  },
  {
   "cell_type": "code",
   "execution_count": 3,
   "metadata": {},
   "outputs": [
    {
     "data": {
      "text/html": [
       "<div>\n",
       "<style scoped>\n",
       "    .dataframe tbody tr th:only-of-type {\n",
       "        vertical-align: middle;\n",
       "    }\n",
       "\n",
       "    .dataframe tbody tr th {\n",
       "        vertical-align: top;\n",
       "    }\n",
       "\n",
       "    .dataframe thead th {\n",
       "        text-align: right;\n",
       "    }\n",
       "</style>\n",
       "<table border=\"1\" class=\"dataframe\">\n",
       "  <thead>\n",
       "    <tr style=\"text-align: right;\">\n",
       "      <th></th>\n",
       "      <th>Date</th>\n",
       "      <th>Country/Region</th>\n",
       "      <th>Id</th>\n",
       "      <th>Lat</th>\n",
       "      <th>Long</th>\n",
       "      <th>ConfirmedCases</th>\n",
       "      <th>Fatalities</th>\n",
       "    </tr>\n",
       "  </thead>\n",
       "  <tbody>\n",
       "    <tr>\n",
       "      <td>0</td>\n",
       "      <td>2020-01-22</td>\n",
       "      <td>China</td>\n",
       "      <td>193380</td>\n",
       "      <td>1083.3367</td>\n",
       "      <td>3684.4197</td>\n",
       "      <td>548.0</td>\n",
       "      <td>17.0</td>\n",
       "    </tr>\n",
       "    <tr>\n",
       "      <td>1</td>\n",
       "      <td>2020-01-22</td>\n",
       "      <td>Italy</td>\n",
       "      <td>12370</td>\n",
       "      <td>43.0000</td>\n",
       "      <td>12.0000</td>\n",
       "      <td>0.0</td>\n",
       "      <td>0.0</td>\n",
       "    </tr>\n",
       "    <tr>\n",
       "      <td>2</td>\n",
       "      <td>2020-01-22</td>\n",
       "      <td>Spain</td>\n",
       "      <td>18508</td>\n",
       "      <td>40.0000</td>\n",
       "      <td>-4.0000</td>\n",
       "      <td>0.0</td>\n",
       "      <td>0.0</td>\n",
       "    </tr>\n",
       "    <tr>\n",
       "      <td>3</td>\n",
       "      <td>2020-01-22</td>\n",
       "      <td>US</td>\n",
       "      <td>1308103</td>\n",
       "      <td>2190.7367</td>\n",
       "      <td>-4890.7490</td>\n",
       "      <td>0.0</td>\n",
       "      <td>0.0</td>\n",
       "    </tr>\n",
       "    <tr>\n",
       "      <td>4</td>\n",
       "      <td>2020-01-23</td>\n",
       "      <td>China</td>\n",
       "      <td>193413</td>\n",
       "      <td>1083.3367</td>\n",
       "      <td>3684.4197</td>\n",
       "      <td>643.0</td>\n",
       "      <td>18.0</td>\n",
       "    </tr>\n",
       "  </tbody>\n",
       "</table>\n",
       "</div>"
      ],
      "text/plain": [
       "        Date Country/Region       Id        Lat       Long  ConfirmedCases  \\\n",
       "0 2020-01-22          China   193380  1083.3367  3684.4197           548.0   \n",
       "1 2020-01-22          Italy    12370    43.0000    12.0000             0.0   \n",
       "2 2020-01-22          Spain    18508    40.0000    -4.0000             0.0   \n",
       "3 2020-01-22             US  1308103  2190.7367 -4890.7490             0.0   \n",
       "4 2020-01-23          China   193413  1083.3367  3684.4197           643.0   \n",
       "\n",
       "   Fatalities  \n",
       "0        17.0  \n",
       "1         0.0  \n",
       "2         0.0  \n",
       "3         0.0  \n",
       "4        18.0  "
      ]
     },
     "metadata": {},
     "output_type": "display_data"
    }
   ],
   "source": [
    "data_4 = train[train[\"Country/Region\"].isin([\"China\", \"US\", \"Italy\", \"Spain\"])]\n",
    "data_4_date = data_4.groupby([\"Date\", 'Country/Region']).sum().reset_index()\n",
    "data_4_date[\"Date\"] = pd.to_datetime(data_4_date[\"Date\"])\n",
    "display(data_4_date.head(5))"
   ]
  },
  {
   "cell_type": "code",
   "execution_count": 4,
   "metadata": {},
   "outputs": [
    {
     "data": {
      "image/png": "[encoded data removed]",
      "text/plain": [
       "<Figure size 432x288 with 1 Axes>"
      ]
     },
     "metadata": {
      "needs_background": "light"
     },
     "output_type": "display_data"
    }
   ],
   "source": [
    "c = sns.lineplot(x='Date', y='ConfirmedCases', hue='Country/Region', data=data_4_date)\n",
    "c.xaxis.set_tick_params(rotation=50)"
   ]
  },
  {
   "cell_type": "code",
   "execution_count": 5,
   "metadata": {},
   "outputs": [
    {
     "data": {
      "image/png": "[encoded data removed]",
      "text/plain": [
       "<Figure size 432x288 with 1 Axes>"
      ]
     },
     "metadata": {
      "needs_background": "light"
     },
     "output_type": "display_data"
    }
   ],
   "source": [
    "c = sns.lineplot(x='Date', y='Fatalities', hue='Country/Region', data=data_4_date)\n",
    "c.xaxis.set_tick_params(rotation=50)"
   ]
  },
  {
   "cell_type": "markdown",
   "metadata": {},
   "source": [
    "### <mark>SIR model initial flavor</mark>"
   ]
  },
  {
   "cell_type": "code",
   "execution_count": 6,
   "metadata": {},
   "outputs": [],
   "source": [
    "# SIR model\n",
    "# S = Suspected, I = Infected, R = Recovered\n",
    "\n",
    "def dS(beta, S, I, N):\n",
    "    return (-beta*S*I/N)\n",
    "\n",
    "def dI(beta, gamma, S, I, N):\n",
    "    return (beta*S*I/N - gamma*I)\n",
    "\n",
    "def dR(gamma, I):\n",
    "    return (gamma*I)\n"
   ]
  },
  {
   "cell_type": "code",
   "execution_count": 7,
   "metadata": {},
   "outputs": [],
   "source": [
    "N = 1*(10**6)\n",
    "days = 100\n",
    "\n",
    "I = 1\n",
    "S = N - I\n",
    "R = 0\n",
    "def cal_SIR(S, I, R, days, N, beta=1, gamma=0.1, ):\n",
    "    SIR = [[0, 'suspected', S/N], [0, 'infected', I/N], [0, 'recovered', R/N]]\n",
    "    for i in range(1, days+1):\n",
    "        delta_S = dS(beta, S, I, N)\n",
    "        delta_I = dI(beta, gamma, S, I, N)\n",
    "        delta_R = dR(gamma, I)\n",
    "        S += delta_S\n",
    "        I += delta_I\n",
    "        R += delta_R\n",
    "        SIR.extend([[i, 'suspected', S/N], [i, 'infected', I/N], [i, 'recovered', R/N]])\n",
    "    return SIR"
   ]
  },
  {
   "cell_type": "code",
   "execution_count": 8,
   "metadata": {},
   "outputs": [
    {
     "data": {
      "text/plain": [
       "Text(0.5, 1.0, 'When beta is 1, and gamma is 0.1')"
      ]
     },
     "execution_count": 8,
     "metadata": {},
     "output_type": "execute_result"
    },
    {
     "data": {
      "image/png": "[encoded data removed]",
      "text/plain": [
       "<Figure size 432x288 with 1 Axes>"
      ]
     },
     "metadata": {
      "needs_background": "light"
     },
     "output_type": "display_data"
    }
   ],
   "source": [
    "beta = 1\n",
    "gamma = 0.1\n",
    "SIR_1 = cal_SIR(S, I, R, days, N, beta, gamma)\n",
    "df_sir_1 = pd.DataFrame(SIR_1, columns=['day', 'type', 'percentage'])\n",
    "\n",
    "a = sns.lineplot(x='day', y='percentage', hue='type', data=df_sir_1)\n",
    "a.set_title(f'When beta is {beta}, and gamma is {gamma}')  "
   ]
  },
  {
   "cell_type": "code",
   "execution_count": 9,
   "metadata": {},
   "outputs": [
    {
     "name": "stdout",
     "output_type": "stream",
     "text": [
      "Let's decrease the number of people we contact each day!\n"
     ]
    },
    {
     "data": {
      "text/plain": [
       "Text(0.5, 1.0, 'When beta is 0.5, and gamma is 0.1')"
      ]
     },
     "execution_count": 9,
     "metadata": {},
     "output_type": "execute_result"
    },
    {
     "data": {
      "image/png": "[encoded data removed]",
      "text/plain": [
       "<Figure size 432x288 with 1 Axes>"
      ]
     },
     "metadata": {
      "needs_background": "light"
     },
     "output_type": "display_data"
    }
   ],
   "source": [
    "print(\"Let's decrease the number of people we contact each day!\")\n",
    "beta = 0.5\n",
    "gamma = 0.1\n",
    "SIR_2 = cal_SIR(S, I, R, days, N, beta, gamma)\n",
    "df_sir_2 = pd.DataFrame(SIR_2, columns=['day', 'type', 'percentage'])\n",
    "\n",
    "b = sns.lineplot(x='day', y='percentage', hue='type', data=df_sir_2)\n",
    "b.set_title(f'When beta is {beta}, and gamma is {gamma}') "
   ]
  },
  {
   "cell_type": "markdown",
   "metadata": {},
   "source": [
    "### <mark>Model for Certain Country</mark>"
   ]
  },
  {
   "cell_type": "code",
   "execution_count": 63,
   "metadata": {},
   "outputs": [
    {
     "data": {
      "text/html": [
       "<div>\n",
       "<style scoped>\n",
       "    .dataframe tbody tr th:only-of-type {\n",
       "        vertical-align: middle;\n",
       "    }\n",
       "\n",
       "    .dataframe tbody tr th {\n",
       "        vertical-align: top;\n",
       "    }\n",
       "\n",
       "    .dataframe thead th {\n",
       "        text-align: right;\n",
       "    }\n",
       "</style>\n",
       "<table border=\"1\" class=\"dataframe\">\n",
       "  <thead>\n",
       "    <tr style=\"text-align: right;\">\n",
       "      <th></th>\n",
       "      <th>Date</th>\n",
       "      <th>Country/Region</th>\n",
       "      <th>Id</th>\n",
       "      <th>Lat</th>\n",
       "      <th>Long</th>\n",
       "      <th>ConfirmedCases</th>\n",
       "      <th>Fatalities</th>\n",
       "    </tr>\n",
       "  </thead>\n",
       "  <tbody>\n",
       "    <tr>\n",
       "      <td>0</td>\n",
       "      <td>2020-01-22</td>\n",
       "      <td>US</td>\n",
       "      <td>1308103</td>\n",
       "      <td>2190.7367</td>\n",
       "      <td>-4890.749</td>\n",
       "      <td>0.0</td>\n",
       "      <td>0.0</td>\n",
       "    </tr>\n",
       "    <tr>\n",
       "      <td>1</td>\n",
       "      <td>2020-01-23</td>\n",
       "      <td>US</td>\n",
       "      <td>1308161</td>\n",
       "      <td>2190.7367</td>\n",
       "      <td>-4890.749</td>\n",
       "      <td>0.0</td>\n",
       "      <td>0.0</td>\n",
       "    </tr>\n",
       "  </tbody>\n",
       "</table>\n",
       "</div>"
      ],
      "text/plain": [
       "        Date Country/Region       Id        Lat      Long  ConfirmedCases  \\\n",
       "0 2020-01-22             US  1308103  2190.7367 -4890.749             0.0   \n",
       "1 2020-01-23             US  1308161  2190.7367 -4890.749             0.0   \n",
       "\n",
       "   Fatalities  \n",
       "0         0.0  \n",
       "1         0.0  "
      ]
     },
     "metadata": {},
     "output_type": "display_data"
    },
    {
     "data": {
      "text/html": [
       "<div>\n",
       "<style scoped>\n",
       "    .dataframe tbody tr th:only-of-type {\n",
       "        vertical-align: middle;\n",
       "    }\n",
       "\n",
       "    .dataframe tbody tr th {\n",
       "        vertical-align: top;\n",
       "    }\n",
       "\n",
       "    .dataframe thead th {\n",
       "        text-align: right;\n",
       "    }\n",
       "</style>\n",
       "<table border=\"1\" class=\"dataframe\">\n",
       "  <thead>\n",
       "    <tr style=\"text-align: right;\">\n",
       "      <th></th>\n",
       "      <th>Date</th>\n",
       "      <th>Country/Region</th>\n",
       "      <th>Id</th>\n",
       "      <th>Lat</th>\n",
       "      <th>Long</th>\n",
       "      <th>ConfirmedCases</th>\n",
       "      <th>Fatalities</th>\n",
       "    </tr>\n",
       "  </thead>\n",
       "  <tbody>\n",
       "    <tr>\n",
       "      <td>57</td>\n",
       "      <td>2020-03-19</td>\n",
       "      <td>US</td>\n",
       "      <td>1311409</td>\n",
       "      <td>2190.7367</td>\n",
       "      <td>-4890.749</td>\n",
       "      <td>13677.0</td>\n",
       "      <td>200.0</td>\n",
       "    </tr>\n",
       "    <tr>\n",
       "      <td>58</td>\n",
       "      <td>2020-03-20</td>\n",
       "      <td>US</td>\n",
       "      <td>1311467</td>\n",
       "      <td>2190.7367</td>\n",
       "      <td>-4890.749</td>\n",
       "      <td>19101.0</td>\n",
       "      <td>244.0</td>\n",
       "    </tr>\n",
       "  </tbody>\n",
       "</table>\n",
       "</div>"
      ],
      "text/plain": [
       "         Date Country/Region       Id        Lat      Long  ConfirmedCases  \\\n",
       "57 2020-03-19             US  1311409  2190.7367 -4890.749         13677.0   \n",
       "58 2020-03-20             US  1311467  2190.7367 -4890.749         19101.0   \n",
       "\n",
       "    Fatalities  \n",
       "57       200.0  \n",
       "58       244.0  "
      ]
     },
     "metadata": {},
     "output_type": "display_data"
    }
   ],
   "source": [
    "country = \"US\"\n",
    "data_country = train[train[\"Country/Region\"].isin([country])]\n",
    "data_country_date = data_country.groupby([\"Date\", 'Country/Region']).sum().reset_index()\n",
    "data_country_date[\"Date\"] = pd.to_datetime(data_country_date[\"Date\"])\n",
    "display(data_country_date.head(2))\n",
    "display(data_country_date.tail(2))"
   ]
  },
  {
   "cell_type": "code",
   "execution_count": 64,
   "metadata": {},
   "outputs": [
    {
     "data": {
      "image/png": "[encoded data removed]",
      "text/plain": [
       "<Figure size 432x288 with 1 Axes>"
      ]
     },
     "metadata": {
      "needs_background": "light"
     },
     "output_type": "display_data"
    }
   ],
   "source": [
    "c = sns.lineplot(x='Date', y='ConfirmedCases',  data=data_country_date)\n",
    "c.xaxis.set_tick_params(rotation=50)\n"
   ]
  },
  {
   "cell_type": "code",
   "execution_count": 68,
   "metadata": {},
   "outputs": [],
   "source": [
    "country_name = \"United States\"\n",
    "population_all = pd.read_csv(\"data/population_by_country_2020.csv\")\n",
    "population_country = population_all.loc[population_all[\"Country (or dependency)\"]==country_name].values[0][1]"
   ]
  },
  {
   "cell_type": "code",
   "execution_count": 69,
   "metadata": {},
   "outputs": [
    {
     "data": {
      "text/html": [
       "<div>\n",
       "<style scoped>\n",
       "    .dataframe tbody tr th:only-of-type {\n",
       "        vertical-align: middle;\n",
       "    }\n",
       "\n",
       "    .dataframe tbody tr th {\n",
       "        vertical-align: top;\n",
       "    }\n",
       "\n",
       "    .dataframe thead th {\n",
       "        text-align: right;\n",
       "    }\n",
       "</style>\n",
       "<table border=\"1\" class=\"dataframe\">\n",
       "  <thead>\n",
       "    <tr style=\"text-align: right;\">\n",
       "      <th></th>\n",
       "      <th>Date</th>\n",
       "      <th>Country/Region</th>\n",
       "      <th>Id</th>\n",
       "      <th>Lat</th>\n",
       "      <th>Long</th>\n",
       "      <th>ConfirmedCases</th>\n",
       "      <th>Fatalities</th>\n",
       "      <th>day_count</th>\n",
       "    </tr>\n",
       "  </thead>\n",
       "  <tbody>\n",
       "    <tr>\n",
       "      <td>54</td>\n",
       "      <td>2020-03-16</td>\n",
       "      <td>US</td>\n",
       "      <td>1311235</td>\n",
       "      <td>2190.7367</td>\n",
       "      <td>-4890.749</td>\n",
       "      <td>4632.0</td>\n",
       "      <td>85.0</td>\n",
       "      <td>22</td>\n",
       "    </tr>\n",
       "    <tr>\n",
       "      <td>55</td>\n",
       "      <td>2020-03-17</td>\n",
       "      <td>US</td>\n",
       "      <td>1311293</td>\n",
       "      <td>2190.7367</td>\n",
       "      <td>-4890.749</td>\n",
       "      <td>6421.0</td>\n",
       "      <td>108.0</td>\n",
       "      <td>23</td>\n",
       "    </tr>\n",
       "    <tr>\n",
       "      <td>56</td>\n",
       "      <td>2020-03-18</td>\n",
       "      <td>US</td>\n",
       "      <td>1311351</td>\n",
       "      <td>2190.7367</td>\n",
       "      <td>-4890.749</td>\n",
       "      <td>7783.0</td>\n",
       "      <td>118.0</td>\n",
       "      <td>24</td>\n",
       "    </tr>\n",
       "    <tr>\n",
       "      <td>57</td>\n",
       "      <td>2020-03-19</td>\n",
       "      <td>US</td>\n",
       "      <td>1311409</td>\n",
       "      <td>2190.7367</td>\n",
       "      <td>-4890.749</td>\n",
       "      <td>13677.0</td>\n",
       "      <td>200.0</td>\n",
       "      <td>25</td>\n",
       "    </tr>\n",
       "    <tr>\n",
       "      <td>58</td>\n",
       "      <td>2020-03-20</td>\n",
       "      <td>US</td>\n",
       "      <td>1311467</td>\n",
       "      <td>2190.7367</td>\n",
       "      <td>-4890.749</td>\n",
       "      <td>19101.0</td>\n",
       "      <td>244.0</td>\n",
       "      <td>26</td>\n",
       "    </tr>\n",
       "  </tbody>\n",
       "</table>\n",
       "</div>"
      ],
      "text/plain": [
       "         Date Country/Region       Id        Lat      Long  ConfirmedCases  \\\n",
       "54 2020-03-16             US  1311235  2190.7367 -4890.749          4632.0   \n",
       "55 2020-03-17             US  1311293  2190.7367 -4890.749          6421.0   \n",
       "56 2020-03-18             US  1311351  2190.7367 -4890.749          7783.0   \n",
       "57 2020-03-19             US  1311409  2190.7367 -4890.749         13677.0   \n",
       "58 2020-03-20             US  1311467  2190.7367 -4890.749         19101.0   \n",
       "\n",
       "    Fatalities  day_count  \n",
       "54        85.0         22  \n",
       "55       108.0         23  \n",
       "56       118.0         24  \n",
       "57       200.0         25  \n",
       "58       244.0         26  "
      ]
     },
     "metadata": {},
     "output_type": "display_data"
    }
   ],
   "source": [
    "# data_country_date = data_country_date[9:] # delete those zero\n",
    "data_country_date.drop(data_country_date[data_country_date.ConfirmedCases < 1].index, inplace=True) ## drop all zeros\n",
    "data_country_date['day_count'] = list(range(1, len(data_country_date)+1))\n",
    "\n",
    "y = [i for i in data_country_date.ConfirmedCases]\n",
    "# y = [i for i in data_italy_date.Fatalities]\n",
    "x = data_country_date.day_count\n",
    "\n",
    "y = np.array(y, dtype=float)\n",
    "x = np.array(x, dtype=float)\n"
   ]
  },
  {
   "cell_type": "code",
   "execution_count": 70,
   "metadata": {},
   "outputs": [],
   "source": [
    "N = population_country\n",
    "inf0 = y[0]\n",
    "sus0 = N - inf0\n",
    "rec0 = 0\n",
    "\n",
    "def sir_model(y, x, beta, gamma):\n",
    "    sus = -beta * y[0] * y[1] / N\n",
    "    rec = gamma * y[1]\n",
    "    inf = -(sus + rec)\n",
    "    return sus, inf, rec\n",
    "\n",
    "def fit_odeint(x, beta, gamma):\n",
    "    return integrate.odeint(sir_model, (sus0, inf0, rec0), x, args=(beta, gamma))[:,1]\n",
    "\n",
    "popt, pcov = optimize.curve_fit(fit_odeint, x, y)\n",
    "fitted = fit_odeint(x, *popt)\n",
    "    "
   ]
  },
  {
   "cell_type": "code",
   "execution_count": 71,
   "metadata": {},
   "outputs": [
    {
     "data": {
      "image/png": "[encoded data removed]",
      "text/plain": [
       "<Figure size 432x288 with 1 Axes>"
      ]
     },
     "metadata": {
      "needs_background": "light"
     },
     "output_type": "display_data"
    },
    {
     "name": "stdout",
     "output_type": "stream",
     "text": [
      "Optimal parameters: beta = 0.0477622187316115  and gamma =  -0.19726561775008414\n"
     ]
    }
   ],
   "source": [
    "plt.plot(x, y, 'o')\n",
    "plt.plot(x, fitted)\n",
    "plt.title(f\"Fit of SIR model to {country} infected cases\")\n",
    "plt.ylabel(\"Population infected\")\n",
    "plt.xlabel(\"Days\")\n",
    "plt.show()\n",
    "print(\"Optimal parameters: beta =\", popt[0], \" and gamma = \", popt[1])\n"
   ]
  },
  {
   "cell_type": "code",
   "execution_count": null,
   "metadata": {},
   "outputs": [],
   "source": []
  },
  {
   "cell_type": "code",
   "execution_count": null,
   "metadata": {},
   "outputs": [],
   "source": []
  },
  {
   "cell_type": "markdown",
   "metadata": {},
   "source": [
    "### Reference\n",
    "* https://www.kaggle.com/saga21/covid-global-forecast-sir-model\n",
    "* https://www.kaggle.com/anjum48/seir-model-with-intervention\n",
    "* https://www.lewuathe.com/covid-19-dynamics-with-sir-model.html\n",
    "* https://www.youtube.com/watch?v=XWXqXzAYe4E"
   ]
  },
  {
   "cell_type": "code",
   "execution_count": null,
   "metadata": {},
   "outputs": [],
   "source": []
  }
 ],
 "metadata": {
  "kernelspec": {
   "display_name": "Python 3",
   "language": "python",
   "name": "python3"
  },
  "language_info": {
   "codemirror_mode": {
    "name": "ipython",
    "version": 3
   },
   "file_extension": ".py",
   "mimetype": "text/x-python",
   "name": "python",
   "nbconvert_exporter": "python",
   "pygments_lexer": "ipython3",
   "version": "3.7.4"
  }
 },
 "nbformat": 4,
 "nbformat_minor": 4
}
